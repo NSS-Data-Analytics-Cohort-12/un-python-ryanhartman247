{
 "cells": [
  {
   "cell_type": "code",
   "execution_count": 1,
   "id": "b263ad71",
   "metadata": {},
   "outputs": [],
   "source": [
    "import pandas as pd\n",
    "import numpy as np\n",
    "import matplotlib.pyplot as plt\n",
    "import seaborn as sns"
   ]
  },
  {
   "cell_type": "markdown",
   "id": "39fcad0f",
   "metadata": {},
   "source": [
    "### 4. Using the pandas `read_csv()` method, read the GDP dataset into your notebook as a DataFrame called `gdp_df`. Take a look at the first few and last few rows to familiarize yourself with what is contained in this dataset."
   ]
  },
  {
   "cell_type": "code",
   "execution_count": 3,
   "id": "6b323791",
   "metadata": {},
   "outputs": [],
   "source": [
    "gdp_df = pd.read_csv(r'C:\\DA12\\Projects\\un-python-ryanhartman247\\data\\gdp_percapita.csv')"
   ]
  },
  {
   "cell_type": "code",
   "execution_count": 4,
   "id": "14d5df5b",
   "metadata": {},
   "outputs": [
    {
     "data": {
      "text/plain": [
       "pandas.core.frame.DataFrame"
      ]
     },
     "execution_count": 4,
     "metadata": {},
     "output_type": "execute_result"
    }
   ],
   "source": [
    "type(gdp_df)"
   ]
  },
  {
   "cell_type": "code",
   "execution_count": 5,
   "id": "d6ba6b17-ca56-462d-aa63-b293ba1dd92b",
   "metadata": {
    "scrolled": true
   },
   "outputs": [
    {
     "data": {
      "text/html": [
       "<div>\n",
       "<style scoped>\n",
       "    .dataframe tbody tr th:only-of-type {\n",
       "        vertical-align: middle;\n",
       "    }\n",
       "\n",
       "    .dataframe tbody tr th {\n",
       "        vertical-align: top;\n",
       "    }\n",
       "\n",
       "    .dataframe thead th {\n",
       "        text-align: right;\n",
       "    }\n",
       "</style>\n",
       "<table border=\"1\" class=\"dataframe\">\n",
       "  <thead>\n",
       "    <tr style=\"text-align: right;\">\n",
       "      <th></th>\n",
       "      <th>Country or Area</th>\n",
       "      <th>Year</th>\n",
       "      <th>Value</th>\n",
       "      <th>Value Footnotes</th>\n",
       "    </tr>\n",
       "  </thead>\n",
       "  <tbody>\n",
       "    <tr>\n",
       "      <th>0</th>\n",
       "      <td>Afghanistan</td>\n",
       "      <td>2021</td>\n",
       "      <td>1517.016266</td>\n",
       "      <td>NaN</td>\n",
       "    </tr>\n",
       "    <tr>\n",
       "      <th>1</th>\n",
       "      <td>Afghanistan</td>\n",
       "      <td>2020</td>\n",
       "      <td>1968.341002</td>\n",
       "      <td>NaN</td>\n",
       "    </tr>\n",
       "    <tr>\n",
       "      <th>2</th>\n",
       "      <td>Afghanistan</td>\n",
       "      <td>2019</td>\n",
       "      <td>2079.921861</td>\n",
       "      <td>NaN</td>\n",
       "    </tr>\n",
       "  </tbody>\n",
       "</table>\n",
       "</div>"
      ],
      "text/plain": [
       "  Country or Area  Year        Value  Value Footnotes\n",
       "0     Afghanistan  2021  1517.016266              NaN\n",
       "1     Afghanistan  2020  1968.341002              NaN\n",
       "2     Afghanistan  2019  2079.921861              NaN"
      ]
     },
     "execution_count": 5,
     "metadata": {},
     "output_type": "execute_result"
    }
   ],
   "source": [
    "gdp_df.head(3)"
   ]
  },
  {
   "cell_type": "markdown",
   "id": "e3f505cf-359a-4690-9c45-357828e0ab36",
   "metadata": {},
   "source": [
    "### 5. How many rows and columns are in `gdp_df`? What are the data types of each column?"
   ]
  },
  {
   "cell_type": "code",
   "execution_count": 7,
   "id": "26e9668a-4ed1-4121-a3e0-64de3e739dd4",
   "metadata": {},
   "outputs": [
    {
     "name": "stdout",
     "output_type": "stream",
     "text": [
      "<class 'pandas.core.frame.DataFrame'>\n",
      "RangeIndex: 7662 entries, 0 to 7661\n",
      "Data columns (total 4 columns):\n",
      " #   Column           Non-Null Count  Dtype  \n",
      "---  ------           --------------  -----  \n",
      " 0   Country or Area  7662 non-null   object \n",
      " 1   Year             7662 non-null   int64  \n",
      " 2   Value            7662 non-null   float64\n",
      " 3   Value Footnotes  0 non-null      float64\n",
      "dtypes: float64(2), int64(1), object(1)\n",
      "memory usage: 239.6+ KB\n"
     ]
    }
   ],
   "source": [
    "gdp_df.info()"
   ]
  },
  {
   "cell_type": "markdown",
   "id": "21cafb8f-cc3f-4b74-9943-7a4bbaba269f",
   "metadata": {},
   "source": [
    "### 6. Drop the `Value Footnotes` column and rename the remaining three to 'Country', 'Year', and 'GDP_Per_Capita'."
   ]
  },
  {
   "cell_type": "code",
   "execution_count": 9,
   "id": "b5392751-0e6e-4af1-913a-3177e3ac1c9b",
   "metadata": {},
   "outputs": [],
   "source": [
    "del gdp_df['Value Footnotes']   # this deletes column value footnotes"
   ]
  },
  {
   "cell_type": "code",
   "execution_count": 10,
   "id": "46c99b19-ecdf-43b3-aa47-636dac2c5fe7",
   "metadata": {},
   "outputs": [
    {
     "name": "stdout",
     "output_type": "stream",
     "text": [
      "<class 'pandas.core.frame.DataFrame'>\n",
      "RangeIndex: 7662 entries, 0 to 7661\n",
      "Data columns (total 3 columns):\n",
      " #   Column           Non-Null Count  Dtype  \n",
      "---  ------           --------------  -----  \n",
      " 0   Country or Area  7662 non-null   object \n",
      " 1   Year             7662 non-null   int64  \n",
      " 2   Value            7662 non-null   float64\n",
      "dtypes: float64(1), int64(1), object(1)\n",
      "memory usage: 179.7+ KB\n"
     ]
    }
   ],
   "source": [
    "gdp_df.info()   #to check that column was deleted"
   ]
  },
  {
   "cell_type": "code",
   "execution_count": 11,
   "id": "8e7accfa-63cb-400a-bf94-0334770e7309",
   "metadata": {},
   "outputs": [],
   "source": [
    "gdp_df.columns = ['Country', 'Year', 'GDP_Per_Capita']   #rename columns"
   ]
  },
  {
   "cell_type": "code",
   "execution_count": 12,
   "id": "15988def-af25-4eb2-b905-f9206f047468",
   "metadata": {},
   "outputs": [
    {
     "name": "stdout",
     "output_type": "stream",
     "text": [
      "<class 'pandas.core.frame.DataFrame'>\n",
      "RangeIndex: 7662 entries, 0 to 7661\n",
      "Data columns (total 3 columns):\n",
      " #   Column          Non-Null Count  Dtype  \n",
      "---  ------          --------------  -----  \n",
      " 0   Country         7662 non-null   object \n",
      " 1   Year            7662 non-null   int64  \n",
      " 2   GDP_Per_Capita  7662 non-null   float64\n",
      "dtypes: float64(1), int64(1), object(1)\n",
      "memory usage: 179.7+ KB\n"
     ]
    }
   ],
   "source": [
    "gdp_df.info()   #to check that columns were renamed correctly "
   ]
  },
  {
   "cell_type": "markdown",
   "id": "8cd5102b-a5a1-4126-be4a-8f3fa4316bbf",
   "metadata": {},
   "source": [
    "### 7. How many countries have data for all years? Which countries are missing many years of data? Look at the number of observations per year. What do you notice? "
   ]
  },
  {
   "cell_type": "code",
   "execution_count": 14,
   "id": "b350af20-7e7b-42cc-96ad-01690c8111eb",
   "metadata": {},
   "outputs": [
    {
     "name": "stdout",
     "output_type": "stream",
     "text": [
      "Country           0\n",
      "Year              0\n",
      "GDP_Per_Capita    0\n",
      "dtype: int64\n"
     ]
    }
   ],
   "source": [
    "missing = gdp_df.isnull().sum()     # I don't think this worked?\n",
    "print(missing)"
   ]
  },
  {
   "cell_type": "code",
   "execution_count": 15,
   "id": "bea2dda6-87b3-4c9d-ae9f-d5cedc7af74c",
   "metadata": {},
   "outputs": [
    {
     "data": {
      "text/plain": [
       "Index(['Country', 'Year', 'GDP_Per_Capita'], dtype='object')"
      ]
     },
     "execution_count": 15,
     "metadata": {},
     "output_type": "execute_result"
    }
   ],
   "source": [
    "gdp_df.columns"
   ]
  },
  {
   "cell_type": "code",
   "execution_count": 16,
   "id": "abc1f063-c8f2-4d53-8ea6-a94a784a7e44",
   "metadata": {},
   "outputs": [
    {
     "data": {
      "text/plain": [
       "array([2021, 2020, 2019, 2018, 2017, 2016, 2015, 2014, 2013, 2012, 2011,\n",
       "       2010, 2009, 2008, 2007, 2006, 2005, 2004, 2003, 2002, 2022, 2001,\n",
       "       2000, 1999, 1998, 1997, 1996, 1995, 1994, 1993, 1992, 1991, 1990],\n",
       "      dtype=int64)"
      ]
     },
     "execution_count": 16,
     "metadata": {},
     "output_type": "execute_result"
    }
   ],
   "source": [
    "gdp_df['Year'].unique()    # counts unique years (I was hoping to find a blank or n/a option but doesn't look like those show)"
   ]
  },
  {
   "cell_type": "code",
   "execution_count": 17,
   "id": "d9ba71b9-e444-4d5f-8b08-b243e9aa9bdd",
   "metadata": {},
   "outputs": [
    {
     "name": "stdout",
     "output_type": "stream",
     "text": [
      "Total number of years represented: 33\n",
      "Total number of countries represented: 242\n",
      "Countries with missing year data: 40\n",
      "Countries without missing year data: 202\n",
      "\n",
      "List of countries w/ missing year data: \n",
      " Country\n",
      "Djibouti                     10\n",
      "Somalia                      10\n",
      "Turks and Caicos Islands     12\n",
      "Sint Maarten (Dutch part)    14\n",
      "Kosovo                       15\n",
      "Cayman Islands               16\n",
      "Nauru                        19\n",
      "Afghanistan                  20\n",
      "CuraÃ§ao                     22\n",
      "Palau                        22\n",
      "SÃ£o TomÃ© and Principe      22\n",
      "Qatar                        23\n",
      "Other small states           23\n",
      "Timor-Leste                  23\n",
      "Liberia                      23\n",
      "Libya                        24\n",
      "San Marino                   25\n",
      "Small states                 26\n",
      "Montenegro                   26\n",
      "Maldives                     28\n",
      "Moldova                      28\n",
      "Israel                       28\n",
      "Iceland                      28\n",
      "Estonia                      28\n",
      "Croatia                      28\n",
      "Serbia                       28\n",
      "Slovenia                     28\n",
      "Lithuania                    28\n",
      "Latvia                       28\n",
      "West Bank and Gaza           29\n",
      "Bosnia and Herzegovina       29\n",
      "Cambodia                     30\n",
      "Kuwait                       31\n",
      "Slovak Republic              31\n",
      "Turkmenistan                 31\n",
      "Lebanon                      32\n",
      "Tonga                        32\n",
      "Hungary                      32\n",
      "Aruba                        32\n",
      "Bhutan                       32\n",
      "Name: Year, dtype: int64\n"
     ]
    }
   ],
   "source": [
    "num_years = gdp_df.Year.nunique()    # counts number of unique years (33) \n",
    "print('Total number of years represented:', num_years)\n",
    "\n",
    "# counts total number of countries represented in df (242) \n",
    "count_countries = gdp_df.Country.nunique()\n",
    "print('Total number of countries represented:', count_countries)\n",
    "\n",
    "# groups by country and orders by year (sorting by year isn't really necessary..) \n",
    "countries_grouped = gdp_df.groupby('Country').nunique().sort_values('Year')\n",
    "# print(countries_grouped.head(5))   # to preview new df \n",
    "# print(len(countries_grouped.index.tolist()))   # checks to make sure I still get 242 countries \n",
    "\n",
    "# calculates number of countries with missing year data \n",
    "missing_years = countries_grouped[countries_grouped.Year < num_years]\n",
    "print('Countries with missing year data:', len(missing_years))\n",
    "#print(missing_years.head())\n",
    "\n",
    "# calculates number of countries without missing year data\n",
    "no_missing_years = countries_grouped[countries_grouped.Year == num_years]\n",
    "print('Countries without missing year data:', len(no_missing_years))\n",
    "\n",
    "print('\\nList of countries w/ missing year data: \\n', missing_years.Year)"
   ]
  },
  {
   "cell_type": "code",
   "execution_count": 18,
   "id": "6a2bcb26-9186-4065-a8c5-9b0c1c1e8675",
   "metadata": {},
   "outputs": [
    {
     "data": {
      "text/plain": [
       "<Axes: xlabel='Year'>"
      ]
     },
     "execution_count": 18,
     "metadata": {},
     "output_type": "execute_result"
    },
    {
     "data": {
      "image/png": "[encoded data removed]",
      "text/plain": [
       "<Figure size 640x480 with 1 Axes>"
      ]
     },
     "metadata": {},
     "output_type": "display_data"
    }
   ],
   "source": [
    "gdp_df['Year'].value_counts().plot(\n",
    "                 kind = 'bar', \n",
    "                 x = 'Year', \n",
    "                 y = 'number')"
   ]
  },
  {
   "cell_type": "code",
   "execution_count": 19,
   "id": "832cbf66-6adb-4a2b-845a-a6d43a562ebb",
   "metadata": {},
   "outputs": [
    {
     "data": {
      "text/html": [
       "<div>\n",
       "<style scoped>\n",
       "    .dataframe tbody tr th:only-of-type {\n",
       "        vertical-align: middle;\n",
       "    }\n",
       "\n",
       "    .dataframe tbody tr th {\n",
       "        vertical-align: top;\n",
       "    }\n",
       "\n",
       "    .dataframe thead th {\n",
       "        text-align: right;\n",
       "    }\n",
       "</style>\n",
       "<table border=\"1\" class=\"dataframe\">\n",
       "  <thead>\n",
       "    <tr style=\"text-align: right;\">\n",
       "      <th></th>\n",
       "      <th>Country</th>\n",
       "      <th>Year</th>\n",
       "      <th>GDP_Per_Capita</th>\n",
       "    </tr>\n",
       "  </thead>\n",
       "  <tbody>\n",
       "    <tr>\n",
       "      <th>600</th>\n",
       "      <td>Belgium</td>\n",
       "      <td>2002</td>\n",
       "      <td>43890.598110</td>\n",
       "    </tr>\n",
       "    <tr>\n",
       "      <th>601</th>\n",
       "      <td>Belgium</td>\n",
       "      <td>2001</td>\n",
       "      <td>43347.889210</td>\n",
       "    </tr>\n",
       "    <tr>\n",
       "      <th>602</th>\n",
       "      <td>Belgium</td>\n",
       "      <td>2000</td>\n",
       "      <td>43024.139910</td>\n",
       "    </tr>\n",
       "    <tr>\n",
       "      <th>603</th>\n",
       "      <td>Belgium</td>\n",
       "      <td>1999</td>\n",
       "      <td>41583.097392</td>\n",
       "    </tr>\n",
       "    <tr>\n",
       "      <th>604</th>\n",
       "      <td>Belgium</td>\n",
       "      <td>1998</td>\n",
       "      <td>40252.468906</td>\n",
       "    </tr>\n",
       "    <tr>\n",
       "      <th>605</th>\n",
       "      <td>Belgium</td>\n",
       "      <td>1997</td>\n",
       "      <td>39562.372980</td>\n",
       "    </tr>\n",
       "  </tbody>\n",
       "</table>\n",
       "</div>"
      ],
      "text/plain": [
       "     Country  Year  GDP_Per_Capita\n",
       "600  Belgium  2002    43890.598110\n",
       "601  Belgium  2001    43347.889210\n",
       "602  Belgium  2000    43024.139910\n",
       "603  Belgium  1999    41583.097392\n",
       "604  Belgium  1998    40252.468906\n",
       "605  Belgium  1997    39562.372980"
      ]
     },
     "execution_count": 19,
     "metadata": {},
     "output_type": "execute_result"
    }
   ],
   "source": [
    "gdp_df.loc[600:605]    # returns a slice"
   ]
  },
  {
   "cell_type": "code",
   "execution_count": 20,
   "id": "9ebc2131-c162-4500-9536-5b88214bb208",
   "metadata": {},
   "outputs": [
    {
     "data": {
      "text/html": [
       "<div>\n",
       "<style scoped>\n",
       "    .dataframe tbody tr th:only-of-type {\n",
       "        vertical-align: middle;\n",
       "    }\n",
       "\n",
       "    .dataframe tbody tr th {\n",
       "        vertical-align: top;\n",
       "    }\n",
       "\n",
       "    .dataframe thead th {\n",
       "        text-align: right;\n",
       "    }\n",
       "</style>\n",
       "<table border=\"1\" class=\"dataframe\">\n",
       "  <thead>\n",
       "    <tr style=\"text-align: right;\">\n",
       "      <th></th>\n",
       "      <th>Country</th>\n",
       "      <th>Year</th>\n",
       "      <th>GDP_Per_Capita</th>\n",
       "    </tr>\n",
       "  </thead>\n",
       "  <tbody>\n",
       "    <tr>\n",
       "      <th>2</th>\n",
       "      <td>Afghanistan</td>\n",
       "      <td>2019</td>\n",
       "      <td>2079.921861</td>\n",
       "    </tr>\n",
       "    <tr>\n",
       "      <th>23</th>\n",
       "      <td>Africa Eastern and Southern</td>\n",
       "      <td>2019</td>\n",
       "      <td>3648.220302</td>\n",
       "    </tr>\n",
       "    <tr>\n",
       "      <th>56</th>\n",
       "      <td>Africa Western and Central</td>\n",
       "      <td>2019</td>\n",
       "      <td>4093.442853</td>\n",
       "    </tr>\n",
       "    <tr>\n",
       "      <th>89</th>\n",
       "      <td>Albania</td>\n",
       "      <td>2019</td>\n",
       "      <td>13653.182207</td>\n",
       "    </tr>\n",
       "    <tr>\n",
       "      <th>122</th>\n",
       "      <td>Algeria</td>\n",
       "      <td>2019</td>\n",
       "      <td>11627.279918</td>\n",
       "    </tr>\n",
       "    <tr>\n",
       "      <th>...</th>\n",
       "      <td>...</td>\n",
       "      <td>...</td>\n",
       "      <td>...</td>\n",
       "    </tr>\n",
       "    <tr>\n",
       "      <th>7504</th>\n",
       "      <td>Viet Nam</td>\n",
       "      <td>2019</td>\n",
       "      <td>10252.004622</td>\n",
       "    </tr>\n",
       "    <tr>\n",
       "      <th>7537</th>\n",
       "      <td>West Bank and Gaza</td>\n",
       "      <td>2019</td>\n",
       "      <td>6245.448697</td>\n",
       "    </tr>\n",
       "    <tr>\n",
       "      <th>7566</th>\n",
       "      <td>World</td>\n",
       "      <td>2019</td>\n",
       "      <td>16864.894576</td>\n",
       "    </tr>\n",
       "    <tr>\n",
       "      <th>7599</th>\n",
       "      <td>Zambia</td>\n",
       "      <td>2019</td>\n",
       "      <td>3372.358980</td>\n",
       "    </tr>\n",
       "    <tr>\n",
       "      <th>7632</th>\n",
       "      <td>Zimbabwe</td>\n",
       "      <td>2019</td>\n",
       "      <td>2203.396810</td>\n",
       "    </tr>\n",
       "  </tbody>\n",
       "</table>\n",
       "<p>242 rows × 3 columns</p>\n",
       "</div>"
      ],
      "text/plain": [
       "                          Country  Year  GDP_Per_Capita\n",
       "2                     Afghanistan  2019     2079.921861\n",
       "23    Africa Eastern and Southern  2019     3648.220302\n",
       "56     Africa Western and Central  2019     4093.442853\n",
       "89                        Albania  2019    13653.182207\n",
       "122                       Algeria  2019    11627.279918\n",
       "...                           ...   ...             ...\n",
       "7504                     Viet Nam  2019    10252.004622\n",
       "7537           West Bank and Gaza  2019     6245.448697\n",
       "7566                        World  2019    16864.894576\n",
       "7599                       Zambia  2019     3372.358980\n",
       "7632                     Zimbabwe  2019     2203.396810\n",
       "\n",
       "[242 rows x 3 columns]"
      ]
     },
     "execution_count": 20,
     "metadata": {},
     "output_type": "execute_result"
    }
   ],
   "source": [
    "gdp_df.loc[gdp_df['Year']==2019]     # returns data where year equals certain value "
   ]
  },
  {
   "cell_type": "code",
   "execution_count": 21,
   "id": "dd809bb5-fa6c-493d-a524-ef6419342ab1",
   "metadata": {},
   "outputs": [
    {
     "data": {
      "text/html": [
       "<div>\n",
       "<style scoped>\n",
       "    .dataframe tbody tr th:only-of-type {\n",
       "        vertical-align: middle;\n",
       "    }\n",
       "\n",
       "    .dataframe tbody tr th {\n",
       "        vertical-align: top;\n",
       "    }\n",
       "\n",
       "    .dataframe thead th {\n",
       "        text-align: right;\n",
       "    }\n",
       "</style>\n",
       "<table border=\"1\" class=\"dataframe\">\n",
       "  <thead>\n",
       "    <tr style=\"text-align: right;\">\n",
       "      <th></th>\n",
       "      <th>Country</th>\n",
       "      <th>Year</th>\n",
       "      <th>GDP_Per_Capita</th>\n",
       "    </tr>\n",
       "  </thead>\n",
       "  <tbody>\n",
       "    <tr>\n",
       "      <th>1</th>\n",
       "      <td>Afghanistan</td>\n",
       "      <td>2020</td>\n",
       "      <td>1968.341002</td>\n",
       "    </tr>\n",
       "    <tr>\n",
       "      <th>2</th>\n",
       "      <td>Afghanistan</td>\n",
       "      <td>2019</td>\n",
       "      <td>2079.921861</td>\n",
       "    </tr>\n",
       "    <tr>\n",
       "      <th>22</th>\n",
       "      <td>Africa Eastern and Southern</td>\n",
       "      <td>2020</td>\n",
       "      <td>3455.023119</td>\n",
       "    </tr>\n",
       "    <tr>\n",
       "      <th>23</th>\n",
       "      <td>Africa Eastern and Southern</td>\n",
       "      <td>2019</td>\n",
       "      <td>3648.220302</td>\n",
       "    </tr>\n",
       "    <tr>\n",
       "      <th>55</th>\n",
       "      <td>Africa Western and Central</td>\n",
       "      <td>2020</td>\n",
       "      <td>3957.933804</td>\n",
       "    </tr>\n",
       "    <tr>\n",
       "      <th>...</th>\n",
       "      <td>...</td>\n",
       "      <td>...</td>\n",
       "      <td>...</td>\n",
       "    </tr>\n",
       "    <tr>\n",
       "      <th>7566</th>\n",
       "      <td>World</td>\n",
       "      <td>2019</td>\n",
       "      <td>16864.894576</td>\n",
       "    </tr>\n",
       "    <tr>\n",
       "      <th>7598</th>\n",
       "      <td>Zambia</td>\n",
       "      <td>2020</td>\n",
       "      <td>3183.650773</td>\n",
       "    </tr>\n",
       "    <tr>\n",
       "      <th>7599</th>\n",
       "      <td>Zambia</td>\n",
       "      <td>2019</td>\n",
       "      <td>3372.358980</td>\n",
       "    </tr>\n",
       "    <tr>\n",
       "      <th>7631</th>\n",
       "      <td>Zimbabwe</td>\n",
       "      <td>2020</td>\n",
       "      <td>1990.319419</td>\n",
       "    </tr>\n",
       "    <tr>\n",
       "      <th>7632</th>\n",
       "      <td>Zimbabwe</td>\n",
       "      <td>2019</td>\n",
       "      <td>2203.396810</td>\n",
       "    </tr>\n",
       "  </tbody>\n",
       "</table>\n",
       "<p>484 rows × 3 columns</p>\n",
       "</div>"
      ],
      "text/plain": [
       "                          Country  Year  GDP_Per_Capita\n",
       "1                     Afghanistan  2020     1968.341002\n",
       "2                     Afghanistan  2019     2079.921861\n",
       "22    Africa Eastern and Southern  2020     3455.023119\n",
       "23    Africa Eastern and Southern  2019     3648.220302\n",
       "55     Africa Western and Central  2020     3957.933804\n",
       "...                           ...   ...             ...\n",
       "7566                        World  2019    16864.894576\n",
       "7598                       Zambia  2020     3183.650773\n",
       "7599                       Zambia  2019     3372.358980\n",
       "7631                     Zimbabwe  2020     1990.319419\n",
       "7632                     Zimbabwe  2019     2203.396810\n",
       "\n",
       "[484 rows x 3 columns]"
      ]
     },
     "execution_count": 21,
     "metadata": {},
     "output_type": "execute_result"
    }
   ],
   "source": [
    "gdp_df.loc[gdp_df.Year.isin([2019, 2020])]   # different syntax to return same as above, but with multiple options"
   ]
  },
  {
   "cell_type": "code",
   "execution_count": 22,
   "id": "05227c35-8b6f-4a11-912c-1a4003807359",
   "metadata": {},
   "outputs": [
    {
     "data": {
      "text/html": [
       "<div>\n",
       "<style scoped>\n",
       "    .dataframe tbody tr th:only-of-type {\n",
       "        vertical-align: middle;\n",
       "    }\n",
       "\n",
       "    .dataframe tbody tr th {\n",
       "        vertical-align: top;\n",
       "    }\n",
       "\n",
       "    .dataframe thead th {\n",
       "        text-align: right;\n",
       "    }\n",
       "</style>\n",
       "<table border=\"1\" class=\"dataframe\">\n",
       "  <thead>\n",
       "    <tr style=\"text-align: right;\">\n",
       "      <th></th>\n",
       "      <th>Country</th>\n",
       "      <th>Year</th>\n",
       "      <th>GDP_Per_Capita</th>\n",
       "    </tr>\n",
       "  </thead>\n",
       "  <tbody>\n",
       "  </tbody>\n",
       "</table>\n",
       "</div>"
      ],
      "text/plain": [
       "Empty DataFrame\n",
       "Columns: [Country, Year, GDP_Per_Capita]\n",
       "Index: []"
      ]
     },
     "execution_count": 22,
     "metadata": {},
     "output_type": "execute_result"
    }
   ],
   "source": [
    "gdp_df.loc[gdp_df.Year.isna()]    # I thought this was supposed to return the location where year equals n/a ? "
   ]
  },
  {
   "cell_type": "code",
   "execution_count": 23,
   "id": "30204a7f-1508-4218-a0f7-a61d69855875",
   "metadata": {},
   "outputs": [
    {
     "data": {
      "text/plain": [
       "<bound method DataFrame.sum of       Country   Year  GDP_Per_Capita\n",
       "0       False  False           False\n",
       "1       False  False           False\n",
       "2       False  False           False\n",
       "3       False  False           False\n",
       "4       False  False           False\n",
       "...       ...    ...             ...\n",
       "7657    False  False           False\n",
       "7658    False  False           False\n",
       "7659    False  False           False\n",
       "7660    False  False           False\n",
       "7661    False  False           False\n",
       "\n",
       "[7662 rows x 3 columns]>"
      ]
     },
     "execution_count": 23,
     "metadata": {},
     "output_type": "execute_result"
    }
   ],
   "source": [
    "gdp_df.isna().sum    # it doesn't look like any columns have n/a? \n",
    "# gdp_df.Year.isna().sum"
   ]
  },
  {
   "cell_type": "code",
   "execution_count": 24,
   "id": "f0452eaf-3256-42f7-ae7e-93fc0310e481",
   "metadata": {},
   "outputs": [
    {
     "data": {
      "text/plain": [
       "count      7662.000000\n",
       "mean      17206.979219\n",
       "std       19363.258695\n",
       "min         436.376416\n",
       "25%        3655.268993\n",
       "50%       10132.449293\n",
       "75%       24119.515045\n",
       "max      157602.482546\n",
       "Name: GDP_Per_Capita, dtype: float64"
      ]
     },
     "execution_count": 24,
     "metadata": {},
     "output_type": "execute_result"
    }
   ],
   "source": [
    "gdp_df.GDP_Per_Capita.describe()"
   ]
  },
  {
   "cell_type": "code",
   "execution_count": 25,
   "id": "0f79389e-77c0-45a5-9be0-e39ebff415bf",
   "metadata": {},
   "outputs": [
    {
     "data": {
      "text/plain": [
       "<Axes: >"
      ]
     },
     "execution_count": 25,
     "metadata": {},
     "output_type": "execute_result"
    },
    {
     "data": {
      "image/png": "[encoded data removed]",
      "text/plain": [
       "<Figure size 640x480 with 1 Axes>"
      ]
     },
     "metadata": {},
     "output_type": "display_data"
    }
   ],
   "source": [
    "gdp_df.GDP_Per_Capita.hist()"
   ]
  },
  {
   "cell_type": "code",
   "execution_count": 26,
   "id": "b2f03dde-b6be-48c4-97e6-8ec3d56ef55a",
   "metadata": {},
   "outputs": [
    {
     "data": {
      "text/html": [
       "<div>\n",
       "<style scoped>\n",
       "    .dataframe tbody tr th:only-of-type {\n",
       "        vertical-align: middle;\n",
       "    }\n",
       "\n",
       "    .dataframe tbody tr th {\n",
       "        vertical-align: top;\n",
       "    }\n",
       "\n",
       "    .dataframe thead th {\n",
       "        text-align: right;\n",
       "    }\n",
       "</style>\n",
       "<table border=\"1\" class=\"dataframe\">\n",
       "  <thead>\n",
       "    <tr style=\"text-align: right;\">\n",
       "      <th></th>\n",
       "      <th>Country</th>\n",
       "      <th>Year</th>\n",
       "      <th>GDP_Per_Capita</th>\n",
       "    </tr>\n",
       "  </thead>\n",
       "  <tbody>\n",
       "    <tr>\n",
       "      <th>0</th>\n",
       "      <td>False</td>\n",
       "      <td>False</td>\n",
       "      <td>False</td>\n",
       "    </tr>\n",
       "    <tr>\n",
       "      <th>1</th>\n",
       "      <td>False</td>\n",
       "      <td>False</td>\n",
       "      <td>False</td>\n",
       "    </tr>\n",
       "    <tr>\n",
       "      <th>2</th>\n",
       "      <td>False</td>\n",
       "      <td>False</td>\n",
       "      <td>False</td>\n",
       "    </tr>\n",
       "    <tr>\n",
       "      <th>3</th>\n",
       "      <td>False</td>\n",
       "      <td>False</td>\n",
       "      <td>False</td>\n",
       "    </tr>\n",
       "    <tr>\n",
       "      <th>4</th>\n",
       "      <td>False</td>\n",
       "      <td>False</td>\n",
       "      <td>False</td>\n",
       "    </tr>\n",
       "    <tr>\n",
       "      <th>...</th>\n",
       "      <td>...</td>\n",
       "      <td>...</td>\n",
       "      <td>...</td>\n",
       "    </tr>\n",
       "    <tr>\n",
       "      <th>7657</th>\n",
       "      <td>False</td>\n",
       "      <td>False</td>\n",
       "      <td>False</td>\n",
       "    </tr>\n",
       "    <tr>\n",
       "      <th>7658</th>\n",
       "      <td>False</td>\n",
       "      <td>False</td>\n",
       "      <td>False</td>\n",
       "    </tr>\n",
       "    <tr>\n",
       "      <th>7659</th>\n",
       "      <td>False</td>\n",
       "      <td>False</td>\n",
       "      <td>False</td>\n",
       "    </tr>\n",
       "    <tr>\n",
       "      <th>7660</th>\n",
       "      <td>False</td>\n",
       "      <td>False</td>\n",
       "      <td>False</td>\n",
       "    </tr>\n",
       "    <tr>\n",
       "      <th>7661</th>\n",
       "      <td>False</td>\n",
       "      <td>False</td>\n",
       "      <td>False</td>\n",
       "    </tr>\n",
       "  </tbody>\n",
       "</table>\n",
       "<p>7662 rows × 3 columns</p>\n",
       "</div>"
      ],
      "text/plain": [
       "      Country   Year  GDP_Per_Capita\n",
       "0       False  False           False\n",
       "1       False  False           False\n",
       "2       False  False           False\n",
       "3       False  False           False\n",
       "4       False  False           False\n",
       "...       ...    ...             ...\n",
       "7657    False  False           False\n",
       "7658    False  False           False\n",
       "7659    False  False           False\n",
       "7660    False  False           False\n",
       "7661    False  False           False\n",
       "\n",
       "[7662 rows x 3 columns]"
      ]
     },
     "execution_count": 26,
     "metadata": {},
     "output_type": "execute_result"
    }
   ],
   "source": [
    "gdp_df.isnull()"
   ]
  },
  {
   "cell_type": "markdown",
   "id": "bce167d6-5677-4e60-b400-5fd64308afe1",
   "metadata": {},
   "source": [
    "### 8. In this question, you're going to create some plots to show the distribution of GDP per capita for the year 2020. Go to the Python Graph Gallery (https://www.python-graph-gallery.com/) and look at the different types of plots under the Distribution section. Create a histogram, a density plot, a boxplot, and a violin plot. What do you notice when you look at these plots? How do the plots compare and what information can you get out of one type that you can't necessarily get out of the others?"
   ]
  },
  {
   "cell_type": "code",
   "execution_count": 28,
   "id": "7f0a5379-7933-4e05-99e3-9e767f638734",
   "metadata": {},
   "outputs": [],
   "source": [
    "import seaborn as sns\n",
    "import matplotlib.pyplot as plt"
   ]
  },
  {
   "cell_type": "code",
   "execution_count": 29,
   "id": "b1dac169-84c6-4274-b0fa-23d9b3ea1476",
   "metadata": {},
   "outputs": [
    {
     "name": "stdout",
     "output_type": "stream",
     "text": [
      "                       Country  Year  GDP_Per_Capita\n",
      "973                    Burundi  2020      711.355263\n",
      "1217  Central African Republic  2020      847.765012\n",
      "1630           Dem. Rep. Congo  2020     1044.071214\n",
      "6273                   Somalia  2020     1127.418534\n",
      "5074                     Niger  2020     1214.546556\n",
      "...                        ...   ...             ...\n",
      "681                    Bermuda  2020    76117.804744\n",
      "5746                     Qatar  2020    89019.069857\n",
      "3279                   Ireland  2020    91356.855054\n",
      "6108                 Singapore  2020    94910.101431\n",
      "4148                Luxembourg  2020   111751.314751\n",
      "\n",
      "[242 rows x 3 columns]\n"
     ]
    }
   ],
   "source": [
    "gdp_df_2020 = gdp_df[gdp_df.Year==2020]\n",
    "print(gdp_df_2020.sort_values('GDP_Per_Capita'))  # prints sample of what will be graphed "
   ]
  },
  {
   "cell_type": "markdown",
   "id": "ab9a72df-9c8e-4024-af8c-36c961a0aa3d",
   "metadata": {},
   "source": [
    "#### Histogram"
   ]
  },
  {
   "cell_type": "code",
   "execution_count": 123,
   "id": "d125e366-8f3b-4ad5-b575-d7e2ed534d01",
   "metadata": {},
   "outputs": [
    {
     "data": {
      "image/png": "[encoded data removed]",
      "text/plain": [
       "<Figure size 640x480 with 1 Axes>"
      ]
     },
     "metadata": {},
     "output_type": "display_data"
    }
   ],
   "source": [
    "sns.histplot(data=gdp_df_2020, x='GDP_Per_Capita', bins=10)\n",
    "#plt.xticks(rotation=90, )\n",
    "plt.show()"
   ]
  },
  {
   "cell_type": "markdown",
   "id": "ce0df2a3-2c6f-4dde-afb4-b65afc8dc062",
   "metadata": {},
   "source": [
    "#### Density Plot"
   ]
  },
  {
   "cell_type": "code",
   "execution_count": 91,
   "id": "d9bbf46d-c964-41c0-b5d6-b03e46486e27",
   "metadata": {},
   "outputs": [
    {
     "data": {
      "image/png": "[encoded data removed]",
      "text/plain": [
       "<Figure size 640x480 with 1 Axes>"
      ]
     },
     "metadata": {},
     "output_type": "display_data"
    }
   ],
   "source": [
    "sns.set_theme(style=\"darkgrid\")\n",
    "sns.kdeplot(gdp_df_2020.GDP_Per_Capita, fill=True, color='olive', bw_method=.2)\n",
    "plt.show()"
   ]
  },
  {
   "cell_type": "markdown",
   "id": "94f4b31e-9594-45c9-a1d2-465b336d3aa5",
   "metadata": {},
   "source": [
    "#### Boxplot"
   ]
  },
  {
   "cell_type": "code",
   "execution_count": 83,
   "id": "094049f3-46a7-4ea9-b6ea-b4b19b067f4f",
   "metadata": {},
   "outputs": [
    {
     "data": {
      "image/png": "[encoded data removed]",
      "text/plain": [
       "<Figure size 640x480 with 1 Axes>"
      ]
     },
     "metadata": {},
     "output_type": "display_data"
    }
   ],
   "source": [
    "sns.boxplot(x=gdp_df_2020.GDP_Per_Capita)\n",
    "# plt.xlabel('GDP Per Capita')   why doesn't this work?? \n",
    "plt.title('GDP Boxplot', loc='left')\n",
    "plt.show()"
   ]
  },
  {
   "cell_type": "code",
   "execution_count": null,
   "id": "a5e48078-7f39-4a53-af9a-97ea04c9a564",
   "metadata": {},
   "outputs": [],
   "source": []
  },
  {
   "cell_type": "markdown",
   "id": "49f7789f-b5d3-4b93-b236-0ee4221be034",
   "metadata": {},
   "source": [
    "### 9. What was the median GDP per capita value in 2020?"
   ]
  },
  {
   "cell_type": "code",
   "execution_count": 110,
   "id": "36084d9b-fe3b-4906-87a7-8fd184790f56",
   "metadata": {},
   "outputs": [
    {
     "name": "stdout",
     "output_type": "stream",
     "text": [
      "Median GDP per capita in 2020:  13358\n"
     ]
    }
   ],
   "source": [
    "median_gdp_2020 = gdp_df_2020.GDP_Per_Capita.median()\n",
    "print('Median GDP per capita in 2020: ', round(median_gdp_2020))"
   ]
  },
  {
   "cell_type": "markdown",
   "id": "d276e4a6-8f7e-4fd6-a33b-a5e1ab5a97dd",
   "metadata": {},
   "source": [
    "### 10. For this question, you're going to create some visualizations to compare GDP per capita values for the years 1990, 2000, 2010, and 2020. Start by subsetting your data to just these 4 years into a new DataFrame named gdp_decades. Using this, create the following 4 plots:\n",
    "\t* A boxplot\n",
    "\t* A barplot (check out the Barplot with Seaborn section: https://www.python-graph-gallery.com/barplot/#Seaborn)\n",
    "\t* A scatterplot\n",
    "\t* A scatterplot with a trend line overlaid (see this regplot example: https://www.python-graph-gallery.com/42-custom-linear-regression-fit-seaborn)  "
   ]
  },
  {
   "cell_type": "code",
   "execution_count": 119,
   "id": "61a17164-35b2-48c6-9b9f-5f70aeee8394",
   "metadata": {},
   "outputs": [
    {
     "data": {
      "text/plain": [
       "Index([   1,   22,   55,   88,  121,  154,  187,  220,  253,  286,\n",
       "       ...\n",
       "       7338, 7371, 7404, 7437, 7470, 7503, 7536, 7565, 7598, 7631],\n",
       "      dtype='int64', length=242)"
      ]
     },
     "execution_count": 119,
     "metadata": {},
     "output_type": "execute_result"
    }
   ],
   "source": [
    "gdp_df_2020.index"
   ]
  },
  {
   "cell_type": "code",
   "execution_count": null,
   "id": "611a0eb7-7550-49b4-9199-2335cbcc50a6",
   "metadata": {},
   "outputs": [],
   "source": []
  }
 ],
 "metadata": {
  "kernelspec": {
   "display_name": "Python 3 (ipykernel)",
   "language": "python",
   "name": "python3"
  },
  "language_info": {
   "codemirror_mode": {
    "name": "ipython",
    "version": 3
   },
   "file_extension": ".py",
   "mimetype": "text/x-python",
   "name": "python",
   "nbconvert_exporter": "python",
   "pygments_lexer": "ipython3",
   "version": "3.12.4"
  }
 },
 "nbformat": 4,
 "nbformat_minor": 5
}
