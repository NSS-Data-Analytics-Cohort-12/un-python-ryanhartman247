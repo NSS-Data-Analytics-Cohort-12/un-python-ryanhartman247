{
 "cells": [
  {
   "cell_type": "code",
   "execution_count": 1,
   "id": "b263ad71",
   "metadata": {},
   "outputs": [],
   "source": [
    "import pandas as pd\n",
    "import numpy as np\n",
    "import matplotlib.pyplot as plt\n",
    "import seaborn as sns"
   ]
  },
  {
   "cell_type": "markdown",
   "id": "39fcad0f",
   "metadata": {},
   "source": [
    "4. Using the pandas `read_csv()` method, read the GDP dataset into your notebook as a DataFrame called `gdp_df`. Take a look at the first few and last few rows to familiarize yourself with what is contained in this dataset."
   ]
  },
  {
   "cell_type": "code",
   "execution_count": 3,
   "id": "6b323791",
   "metadata": {},
   "outputs": [],
   "source": [
    "gdp_df = pd.read_csv(r'C:\\DA12\\Projects\\un-python-ryanhartman247\\data\\gdp_percapita.csv')"
   ]
  },
  {
   "cell_type": "markdown",
   "id": "4805f921-df1e-45dc-a475-5bd5045a41eb",
   "metadata": {},
   "source": [
    "5. How many rows and columns are in `gdp_df`? What are the data types of each column?"
   ]
  },
  {
   "cell_type": "code",
   "execution_count": 5,
   "id": "14d5df5b",
   "metadata": {},
   "outputs": [
    {
     "data": {
      "text/plain": [
       "pandas.core.frame.DataFrame"
      ]
     },
     "execution_count": 5,
     "metadata": {},
     "output_type": "execute_result"
    }
   ],
   "source": [
    "type(gdp_df)"
   ]
  },
  {
   "cell_type": "code",
   "execution_count": 28,
   "id": "d6ba6b17-ca56-462d-aa63-b293ba1dd92b",
   "metadata": {
    "scrolled": true
   },
   "outputs": [
    {
     "data": {
      "text/html": [
       "<div>\n",
       "<style scoped>\n",
       "    .dataframe tbody tr th:only-of-type {\n",
       "        vertical-align: middle;\n",
       "    }\n",
       "\n",
       "    .dataframe tbody tr th {\n",
       "        vertical-align: top;\n",
       "    }\n",
       "\n",
       "    .dataframe thead th {\n",
       "        text-align: right;\n",
       "    }\n",
       "</style>\n",
       "<table border=\"1\" class=\"dataframe\">\n",
       "  <thead>\n",
       "    <tr style=\"text-align: right;\">\n",
       "      <th></th>\n",
       "      <th>Country</th>\n",
       "      <th>Year</th>\n",
       "      <th>GDP_Per_Capita</th>\n",
       "    </tr>\n",
       "  </thead>\n",
       "  <tbody>\n",
       "    <tr>\n",
       "      <th>0</th>\n",
       "      <td>Afghanistan</td>\n",
       "      <td>2021</td>\n",
       "      <td>1517.016266</td>\n",
       "    </tr>\n",
       "    <tr>\n",
       "      <th>1</th>\n",
       "      <td>Afghanistan</td>\n",
       "      <td>2020</td>\n",
       "      <td>1968.341002</td>\n",
       "    </tr>\n",
       "    <tr>\n",
       "      <th>2</th>\n",
       "      <td>Afghanistan</td>\n",
       "      <td>2019</td>\n",
       "      <td>2079.921861</td>\n",
       "    </tr>\n",
       "    <tr>\n",
       "      <th>3</th>\n",
       "      <td>Afghanistan</td>\n",
       "      <td>2018</td>\n",
       "      <td>2060.698973</td>\n",
       "    </tr>\n",
       "    <tr>\n",
       "      <th>4</th>\n",
       "      <td>Afghanistan</td>\n",
       "      <td>2017</td>\n",
       "      <td>2096.093111</td>\n",
       "    </tr>\n",
       "    <tr>\n",
       "      <th>5</th>\n",
       "      <td>Afghanistan</td>\n",
       "      <td>2016</td>\n",
       "      <td>2101.422187</td>\n",
       "    </tr>\n",
       "    <tr>\n",
       "      <th>6</th>\n",
       "      <td>Afghanistan</td>\n",
       "      <td>2015</td>\n",
       "      <td>2108.714173</td>\n",
       "    </tr>\n",
       "    <tr>\n",
       "      <th>7</th>\n",
       "      <td>Afghanistan</td>\n",
       "      <td>2014</td>\n",
       "      <td>2144.449634</td>\n",
       "    </tr>\n",
       "    <tr>\n",
       "      <th>8</th>\n",
       "      <td>Afghanistan</td>\n",
       "      <td>2013</td>\n",
       "      <td>2165.340915</td>\n",
       "    </tr>\n",
       "    <tr>\n",
       "      <th>9</th>\n",
       "      <td>Afghanistan</td>\n",
       "      <td>2012</td>\n",
       "      <td>2122.830759</td>\n",
       "    </tr>\n",
       "  </tbody>\n",
       "</table>\n",
       "</div>"
      ],
      "text/plain": [
       "       Country  Year  GDP_Per_Capita\n",
       "0  Afghanistan  2021     1517.016266\n",
       "1  Afghanistan  2020     1968.341002\n",
       "2  Afghanistan  2019     2079.921861\n",
       "3  Afghanistan  2018     2060.698973\n",
       "4  Afghanistan  2017     2096.093111\n",
       "5  Afghanistan  2016     2101.422187\n",
       "6  Afghanistan  2015     2108.714173\n",
       "7  Afghanistan  2014     2144.449634\n",
       "8  Afghanistan  2013     2165.340915\n",
       "9  Afghanistan  2012     2122.830759"
      ]
     },
     "execution_count": 28,
     "metadata": {},
     "output_type": "execute_result"
    }
   ],
   "source": [
    "gdp_df.head(10)"
   ]
  },
  {
   "cell_type": "code",
   "execution_count": 7,
   "id": "26e9668a-4ed1-4121-a3e0-64de3e739dd4",
   "metadata": {},
   "outputs": [
    {
     "name": "stdout",
     "output_type": "stream",
     "text": [
      "<class 'pandas.core.frame.DataFrame'>\n",
      "RangeIndex: 7662 entries, 0 to 7661\n",
      "Data columns (total 4 columns):\n",
      " #   Column           Non-Null Count  Dtype  \n",
      "---  ------           --------------  -----  \n",
      " 0   Country or Area  7662 non-null   object \n",
      " 1   Year             7662 non-null   int64  \n",
      " 2   Value            7662 non-null   float64\n",
      " 3   Value Footnotes  0 non-null      float64\n",
      "dtypes: float64(2), int64(1), object(1)\n",
      "memory usage: 239.6+ KB\n"
     ]
    }
   ],
   "source": [
    "gdp_df.info()"
   ]
  },
  {
   "cell_type": "markdown",
   "id": "21cafb8f-cc3f-4b74-9943-7a4bbaba269f",
   "metadata": {},
   "source": [
    "6. Drop the `Value Footnotes` column and rename the remaining three to 'Country', 'Year', and 'GDP_Per_Capita'."
   ]
  },
  {
   "cell_type": "code",
   "execution_count": 9,
   "id": "b5392751-0e6e-4af1-913a-3177e3ac1c9b",
   "metadata": {},
   "outputs": [],
   "source": [
    "del gdp_df['Value Footnotes']   # this deletes column value footnotes"
   ]
  },
  {
   "cell_type": "code",
   "execution_count": 10,
   "id": "46c99b19-ecdf-43b3-aa47-636dac2c5fe7",
   "metadata": {},
   "outputs": [
    {
     "name": "stdout",
     "output_type": "stream",
     "text": [
      "<class 'pandas.core.frame.DataFrame'>\n",
      "RangeIndex: 7662 entries, 0 to 7661\n",
      "Data columns (total 3 columns):\n",
      " #   Column           Non-Null Count  Dtype  \n",
      "---  ------           --------------  -----  \n",
      " 0   Country or Area  7662 non-null   object \n",
      " 1   Year             7662 non-null   int64  \n",
      " 2   Value            7662 non-null   float64\n",
      "dtypes: float64(1), int64(1), object(1)\n",
      "memory usage: 179.7+ KB\n"
     ]
    }
   ],
   "source": [
    "gdp_df.info()   #to check that column was deleted"
   ]
  },
  {
   "cell_type": "code",
   "execution_count": 11,
   "id": "8e7accfa-63cb-400a-bf94-0334770e7309",
   "metadata": {},
   "outputs": [],
   "source": [
    "gdp_df.columns = ['Country', 'Year', 'GDP_Per_Capita']   #rename columns"
   ]
  },
  {
   "cell_type": "code",
   "execution_count": 12,
   "id": "15988def-af25-4eb2-b905-f9206f047468",
   "metadata": {},
   "outputs": [
    {
     "name": "stdout",
     "output_type": "stream",
     "text": [
      "<class 'pandas.core.frame.DataFrame'>\n",
      "RangeIndex: 7662 entries, 0 to 7661\n",
      "Data columns (total 3 columns):\n",
      " #   Column          Non-Null Count  Dtype  \n",
      "---  ------          --------------  -----  \n",
      " 0   Country         7662 non-null   object \n",
      " 1   Year            7662 non-null   int64  \n",
      " 2   GDP_Per_Capita  7662 non-null   float64\n",
      "dtypes: float64(1), int64(1), object(1)\n",
      "memory usage: 179.7+ KB\n"
     ]
    }
   ],
   "source": [
    "gdp_df.info()   #to check that columns were renamed correctly "
   ]
  },
  {
   "cell_type": "markdown",
   "id": "8cd5102b-a5a1-4126-be4a-8f3fa4316bbf",
   "metadata": {},
   "source": [
    "7. How many countries have data for all years? Which countries are missing many years of data? Look at the number of observations per year. What do you notice? "
   ]
  },
  {
   "cell_type": "code",
   "execution_count": 26,
   "id": "b350af20-7e7b-42cc-96ad-01690c8111eb",
   "metadata": {},
   "outputs": [
    {
     "name": "stdout",
     "output_type": "stream",
     "text": [
      "Country           0\n",
      "Year              0\n",
      "GDP_Per_Capita    0\n",
      "dtype: int64\n"
     ]
    }
   ],
   "source": [
    "missing = gdp_df.isnull().sum()\n",
    "print(missing)"
   ]
  },
  {
   "cell_type": "code",
   "execution_count": null,
   "id": "bea2dda6-87b3-4c9d-ae9f-d5cedc7af74c",
   "metadata": {},
   "outputs": [],
   "source": []
  }
 ],
 "metadata": {
  "kernelspec": {
   "display_name": "Python 3 (ipykernel)",
   "language": "python",
   "name": "python3"
  },
  "language_info": {
   "codemirror_mode": {
    "name": "ipython",
    "version": 3
   },
   "file_extension": ".py",
   "mimetype": "text/x-python",
   "name": "python",
   "nbconvert_exporter": "python",
   "pygments_lexer": "ipython3",
   "version": "3.12.4"
  }
 },
 "nbformat": 4,
 "nbformat_minor": 5
}
